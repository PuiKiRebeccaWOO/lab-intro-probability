{
 "cells": [
  {
   "cell_type": "markdown",
   "metadata": {},
   "source": [
    "# Lab | Intro to Probability"
   ]
  },
  {
   "cell_type": "markdown",
   "metadata": {},
   "source": [
    "**Objective**\n",
    "\n",
    "Welcome to this Intro to Probability lab, where we explore decision-making scenarios through the lens of probability and strategic analysis. In the business world, making informed decisions is crucial, especially when faced with uncertainties. This lab focuses on scenarios where probabilistic outcomes play a significant role in shaping strategies and outcomes. Students will engage in exercises that require assessing and choosing optimal paths based on data-driven insights. The goal is to enhance your skills by applying probability concepts to solve real-world problems."
   ]
  },
  {
   "cell_type": "markdown",
   "metadata": {},
   "source": [
    "**Challenge 1**"
   ]
  },
  {
   "cell_type": "markdown",
   "metadata": {},
   "source": [
    "#### Ironhack Airlines \n",
    "\n",
    "Often Airlines sell more tickets than they have seats available, this is called overbooking. Consider the following:\n",
    "- A plane has 450 seats. \n",
    "- Based on historical data we conclude that each individual passenger has a 3% chance of missing it's flight. \n",
    "\n",
    "If the Ironhack Airlines routinely sells 460 tickets, what is the chance that they have a seats for all passenger?"
   ]
  },
  {
   "cell_type": "code",
   "execution_count": 6,
   "metadata": {},
   "outputs": [
    {
     "name": "stdout",
     "output_type": "stream",
     "text": [
      "Exact probability that there are enough seats: 0.8845\n"
     ]
    }
   ],
   "source": [
    "# binomial distribution\n",
    "from scipy.stats import binom\n",
    "\n",
    "n = 460  # Total tickets sold\n",
    "p = 0.97  # Probability of each passenger showing up\n",
    "seat_capacity = 450  # Plane seat capacity\n",
    "\n",
    "# Compute the exact probability P(X ≤ 450) using the binomial CDF\n",
    "probability_exact = binom.cdf(seat_capacity, n, p)\n",
    "\n",
    "# Print the result\n",
    "print(f\"Exact probability that there are enough seats: {probability_exact:.4f}\")"
   ]
  },
  {
   "cell_type": "markdown",
   "metadata": {},
   "source": [
    "**Challenge 2**"
   ]
  },
  {
   "cell_type": "markdown",
   "metadata": {},
   "source": [
    "#### Ironhack Call Center "
   ]
  },
  {
   "cell_type": "markdown",
   "metadata": {},
   "source": [
    "Suppose a customer service representative at a call center is handling customer complaints. Consider the following:\n",
    "- The probability of successfully resolving a customer complaint on the first attempt is 0.3. \n",
    "\n",
    "\n",
    "What is the probability that the representative needs to make at least three attempts before successfully resolving a customer complaint?"
   ]
  },
  {
   "cell_type": "code",
   "execution_count": 10,
   "metadata": {},
   "outputs": [
    {
     "name": "stdout",
     "output_type": "stream",
     "text": [
      "The probability that the representative needs to make at least three attempts before successfully resolving a customer complaint is  0.15\n"
     ]
    }
   ],
   "source": [
    "# geometric distribution\n",
    "from scipy.stats import geom\n",
    "\n",
    "p = 0.30\n",
    "geom_dist = geom(p)\n",
    "\n",
    "print(f\"The probability that the representative needs to make at least three attempts before successfully resolving a customer complaint is {geom_dist.pmf(3): .2f}\")"
   ]
  },
  {
   "cell_type": "markdown",
   "metadata": {},
   "source": [
    "**Challenge 3**"
   ]
  },
  {
   "cell_type": "markdown",
   "metadata": {},
   "source": [
    "#### Ironhack Website"
   ]
  },
  {
   "cell_type": "markdown",
   "metadata": {},
   "source": [
    "Consider a scenario related to Ironhack website traffic. Where:\n",
    "- our website takes on average 500 visits per hour.\n",
    "- the website's server is designed to handle up to 550 vists per hour.\n",
    "\n",
    "\n",
    "What is the probability of the website server being overwhelmed?"
   ]
  },
  {
   "cell_type": "code",
   "execution_count": 12,
   "metadata": {},
   "outputs": [
    {
     "name": "stdout",
     "output_type": "stream",
     "text": [
      "Probability of the website server being overwhelmed: 0.0129\n"
     ]
    }
   ],
   "source": [
    "# poisson distribution\n",
    "from scipy.stats import poisson\n",
    "\n",
    "lambda_visits = 500  # Average visits per hour\n",
    "server_capacity = 550  # Maximum server capacity\n",
    "\n",
    "# Compute the probability of X ≤ 550\n",
    "probability_not_overwhelmed = poisson.cdf(server_capacity, lambda_visits)\n",
    "\n",
    "# Compute the probability of being overwhelmed (X > 550)\n",
    "probability_overwhelmed = 1 - probability_not_overwhelmed\n",
    "\n",
    "print(f\"Probability of the website server being overwhelmed: {probability_overwhelmed:.4f}\")"
   ]
  },
  {
   "cell_type": "markdown",
   "metadata": {},
   "source": [
    "What is the probability of being overwhelmed at some point during a day? (consider 24hours)"
   ]
  },
  {
   "cell_type": "code",
   "execution_count": 21,
   "metadata": {},
   "outputs": [
    {
     "name": "stdout",
     "output_type": "stream",
     "text": [
      "Probability of the website server being overwhelmed at least once in a day: 0.2677\n"
     ]
    }
   ],
   "source": [
    "lambda_visits = 500  # Average visits per hour\n",
    "server_capacity = 550  # Maximum server capacity\n",
    "\n",
    "# Probability of being overwhelmed in a single hour\n",
    "p_overwhelmed_hour = 1 - poisson.cdf(server_capacity, lambda_visits)\n",
    "\n",
    "# Probability of being overwhelmed at least once in 24 hours\n",
    "p_overwhelmed_day = 1 - (1 - p_overwhelmed_hour) ** 24\n",
    "\n",
    "print(f\"Probability of the website server being overwhelmed at least once in a day: {p_overwhelmed_day:.4f}\")"
   ]
  },
  {
   "cell_type": "markdown",
   "metadata": {},
   "source": [
    "**Challenge 4**"
   ]
  },
  {
   "cell_type": "markdown",
   "metadata": {},
   "source": [
    "#### Ironhack Helpdesk"
   ]
  },
  {
   "cell_type": "markdown",
   "metadata": {},
   "source": [
    "Consider a scenario related to the time between arrivals of customers at a service desk.\n",
    "\n",
    "On average, a customers arrives every 10minutes.\n",
    "\n",
    "What is the probability that the next customer will arrive within the next 5 minutes?"
   ]
  },
  {
   "cell_type": "code",
   "execution_count": 25,
   "metadata": {},
   "outputs": [
    {
     "name": "stdout",
     "output_type": "stream",
     "text": [
      "Probability that the next customer arrives within 5 minutes: 0.3935\n"
     ]
    }
   ],
   "source": [
    "# Exponential probability density function (PDF)\n",
    "from scipy.stats import expon\n",
    "\n",
    "lambda_rate = 1 / 10  # Average arrival rate (1 customer every 10 minutes)\n",
    "t = 5  # Time threshold (minutes)\n",
    "\n",
    "probability_within_5_min = expon.cdf(t, scale=1/lambda_rate)\n",
    "\n",
    "print(f\"Probability that the next customer arrives within 5 minutes: {probability_within_5_min:.4f}\")"
   ]
  },
  {
   "cell_type": "markdown",
   "metadata": {},
   "source": [
    "If there is no customer for 15minutes, employees can that a 5minutes break.\n",
    "\n",
    "What is the probability an employee taking a break?"
   ]
  },
  {
   "cell_type": "code",
   "execution_count": 27,
   "metadata": {},
   "outputs": [
    {
     "name": "stdout",
     "output_type": "stream",
     "text": [
      "Probability that no customer arrives in 15 minutes (employee can take a break): 0.2231\n"
     ]
    }
   ],
   "source": [
    "lambda_rate = 1 / 10  # Customer arrival rate (1 per 10 minutes)\n",
    "t = 15  # Time threshold (minutes)\n",
    "\n",
    "# Compute probability using the Survival Function (SF)\n",
    "probability_no_customer_15min = expon.sf(t, scale=1/lambda_rate)\n",
    "\n",
    "print(f\"Probability that no customer arrives in 15 minutes (employee can take a break): {probability_no_customer_15min:.4f}\")"
   ]
  },
  {
   "cell_type": "markdown",
   "metadata": {},
   "source": [
    "**Challenge 5**"
   ]
  },
  {
   "cell_type": "markdown",
   "metadata": {},
   "source": [
    "The weights of a certain species of birds follow a normal distribution with a mean weight of 150 grams and a standard deviation of 10 grams. \n",
    "\n",
    "- If we randomly select a bird, what is the probability that its weight is between 140 and 160 grams?"
   ]
  },
  {
   "cell_type": "code",
   "execution_count": 29,
   "metadata": {},
   "outputs": [
    {
     "name": "stdout",
     "output_type": "stream",
     "text": [
      "Probability that a randomly selected bird weighs between 140g and 160g: 0.6827\n"
     ]
    }
   ],
   "source": [
    "from scipy.stats import norm\n",
    "mu = 150  # Mean\n",
    "sigma = 10  # Standard deviation\n",
    "\n",
    "# Compute probability using the CDF\n",
    "probability = norm.cdf(160, mu, sigma) - norm.cdf(140, mu, sigma)\n",
    "\n",
    "print(f\"Probability that a randomly selected bird weighs between 140g and 160g: {probability:.4f}\")"
   ]
  },
  {
   "cell_type": "markdown",
   "metadata": {},
   "source": [
    "**Challenge 6**"
   ]
  },
  {
   "cell_type": "markdown",
   "metadata": {},
   "source": [
    "If the lifetime (in hours) of a certain electronic component follows an exponential distribution with a mean lifetime of 50 hours, what is the probability that the component fails within the first 30 hours?"
   ]
  },
  {
   "cell_type": "code",
   "execution_count": 31,
   "metadata": {},
   "outputs": [
    {
     "name": "stdout",
     "output_type": "stream",
     "text": [
      "Probability that the component fails within the first 30 hours: 0.4512\n"
     ]
    }
   ],
   "source": [
    "mean_lifetime = 50  # Mean lifetime in hours\n",
    "lambda_rate = 1 / mean_lifetime  # Exponential rate parameter\n",
    "t = 30  # Time threshold in hours\n",
    "\n",
    "# Compute probability using the CDF\n",
    "probability_failure_30hrs = expon.cdf(t, scale=1/lambda_rate)\n",
    "\n",
    "print(f\"Probability that the component fails within the first 30 hours: {probability_failure_30hrs:.4f}\")"
   ]
  },
  {
   "cell_type": "code",
   "execution_count": null,
   "metadata": {},
   "outputs": [],
   "source": []
  }
 ],
 "metadata": {
  "kernelspec": {
   "display_name": "Python 3 (ipykernel)",
   "language": "python",
   "name": "python3"
  },
  "language_info": {
   "codemirror_mode": {
    "name": "ipython",
    "version": 3
   },
   "file_extension": ".py",
   "mimetype": "text/x-python",
   "name": "python",
   "nbconvert_exporter": "python",
   "pygments_lexer": "ipython3",
   "version": "3.12.7"
  }
 },
 "nbformat": 4,
 "nbformat_minor": 4
}
